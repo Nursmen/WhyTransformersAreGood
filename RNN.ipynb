{
 "cells": [
  {
   "cell_type": "code",
   "execution_count": 1,
   "metadata": {},
   "outputs": [
    {
     "name": "stderr",
     "output_type": "stream",
     "text": [
      "c:\\Users\\nnurs\\anaconda3\\envs\\pytorchenv\\Lib\\site-packages\\tqdm\\auto.py:21: TqdmWarning: IProgress not found. Please update jupyter and ipywidgets. See https://ipywidgets.readthedocs.io/en/stable/user_install.html\n",
      "  from .autonotebook import tqdm as notebook_tqdm\n"
     ]
    }
   ],
   "source": [
    "import torch\n",
    "import torch.nn as nn\n",
    "import torch.optim as optim\n",
    "from tqdm import tqdm, trange\n",
    "from torchvision import transforms\n",
    "import torchvision\n",
    "\n",
    "\n",
    "import matplotlib.pyplot as plt\n",
    "\n",
    "device = torch.device('cuda' if torch.cuda.is_available() else 'cpu')\n",
    "# device = torch.device('cpu')"
   ]
  },
  {
   "cell_type": "code",
   "execution_count": 2,
   "metadata": {},
   "outputs": [],
   "source": [
    "class ReLUSquared(nn.Module):\n",
    "    def forward(self, x):\n",
    "        return torch.relu(x) ** 2"
   ]
  },
  {
   "cell_type": "code",
   "execution_count": 3,
   "metadata": {},
   "outputs": [],
   "source": [
    "input_size = 3\n",
    "hidden_size = 8\n",
    "num_layers = 16"
   ]
  },
  {
   "cell_type": "code",
   "execution_count": 4,
   "metadata": {},
   "outputs": [],
   "source": [
    "import torch\n",
    "import torch.jit as jit\n",
    "import torch.nn as nn\n",
    "from torch import Tensor\n",
    "from torch.nn import Parameter\n",
    "import numbers\n",
    "from typing import List, Tuple\n",
    "\n",
    "class LayerNorm(jit.ScriptModule):\n",
    "    def __init__(self, normalized_shape):\n",
    "        super().__init__()\n",
    "        if isinstance(normalized_shape, numbers.Integral):\n",
    "            normalized_shape = (normalized_shape,)\n",
    "        normalized_shape = torch.Size(normalized_shape)\n",
    "\n",
    "        assert len(normalized_shape) == 1\n",
    "\n",
    "        self.weight = Parameter(torch.ones(normalized_shape))\n",
    "        self.bias = Parameter(torch.zeros(normalized_shape))\n",
    "        self.normalized_shape = normalized_shape\n",
    "\n",
    "    @jit.script_method\n",
    "    def compute_layernorm_stats(self, input):\n",
    "        mu = input.mean(-1, keepdim=True)\n",
    "        sigma = input.std(-1, keepdim=True, unbiased=False)\n",
    "        return mu, sigma\n",
    "\n",
    "    @jit.script_method\n",
    "    def forward(self, input):\n",
    "        mu, sigma = self.compute_layernorm_stats(input)\n",
    "        return (input - mu) / sigma * self.weight + self.bias\n",
    "\n",
    "\n",
    "class LayerNormLSTMCell(jit.ScriptModule):\n",
    "    def __init__(self, input_size, hidden_size, decompose_layernorm=False):\n",
    "        super().__init__()\n",
    "        self.input_size = input_size\n",
    "        self.hidden_size = hidden_size\n",
    "        self.weight_ih = Parameter(torch.randn(4 * hidden_size, input_size))\n",
    "        self.weight_hh = Parameter(torch.randn(4 * hidden_size, hidden_size))\n",
    "\n",
    "        if decompose_layernorm:\n",
    "            ln = LayerNorm\n",
    "        else:\n",
    "            ln = nn.LayerNorm\n",
    "\n",
    "        self.layernorm_i = ln(4 * hidden_size)\n",
    "        self.layernorm_h = ln(4 * hidden_size)\n",
    "        self.layernorm_c = ln(hidden_size)\n",
    "\n",
    "    @jit.script_method\n",
    "    def forward(\n",
    "        self, input: Tensor, state: Tuple[Tensor, Tensor]\n",
    "    ) -> Tuple[Tensor, Tuple[Tensor, Tensor]]:\n",
    "        hx, cx = state\n",
    "        igates = self.layernorm_i(torch.mm(input, self.weight_ih.t()))\n",
    "        hgates = self.layernorm_h(torch.mm(hx, self.weight_hh.t()))\n",
    "        gates = igates + hgates\n",
    "        ingate, forgetgate, cellgate, outgate = gates.chunk(4, 1)\n",
    "\n",
    "        ingate = torch.sigmoid(ingate)\n",
    "        forgetgate = torch.sigmoid(forgetgate)\n",
    "        cellgate = torch.tanh(cellgate)\n",
    "        outgate = torch.sigmoid(outgate)\n",
    "\n",
    "        cy = self.layernorm_c((forgetgate * cx) + (ingate * cellgate))\n",
    "        hy = outgate * torch.tanh(cy)\n",
    "\n",
    "        return hy, (hy, cy)\n",
    "\n",
    "\n",
    "class LSTMLayer(jit.ScriptModule):\n",
    "    def __init__(self, cell, *cell_args):\n",
    "        super().__init__()\n",
    "        self.cell = cell(*cell_args)\n",
    "\n",
    "    @jit.script_method\n",
    "    def forward(\n",
    "        self, input: Tensor, state: Tuple[Tensor, Tensor]\n",
    "    ) -> Tuple[Tensor, Tuple[Tensor, Tensor]]:\n",
    "        inputs = input.unbind(0)\n",
    "        outputs = torch.jit.annotate(List[Tensor], [])\n",
    "        for i in range(len(inputs)):\n",
    "            out, state = self.cell(inputs[i], state)\n",
    "            outputs += [out]\n",
    "        return torch.stack(outputs), state"
   ]
  },
  {
   "attachments": {},
   "cell_type": "markdown",
   "metadata": {},
   "source": [
    "```\n",
    "Shape should be \n",
    "batch, H*W, embed_size\n",
    "```"
   ]
  },
  {
   "cell_type": "code",
   "execution_count": 5,
   "metadata": {},
   "outputs": [
    {
     "name": "stdout",
     "output_type": "stream",
     "text": [
      "Total number of parameters: 8634\n"
     ]
    }
   ],
   "source": [
    "custom_lstm = ImageCustomLSTM(input_size, hidden_size, num_layers)\n",
    "total_params = sum(p.numel() for p in custom_lstm.parameters())\n",
    "print(f\"Total number of parameters: {total_params}\")"
   ]
  },
  {
   "cell_type": "code",
   "execution_count": 6,
   "metadata": {},
   "outputs": [],
   "source": [
    "def get_gradient_norms(model):\n",
    "    grad_norms = {}\n",
    "    for name, param in model.named_parameters():\n",
    "        if param.grad is not None:\n",
    "            grad_norms[name] = param.grad.norm().item()\n",
    "    return grad_norms"
   ]
  },
  {
   "cell_type": "code",
   "execution_count": 7,
   "metadata": {},
   "outputs": [],
   "source": [
    "activation_maps = {}"
   ]
  },
  {
   "cell_type": "code",
   "execution_count": 8,
   "metadata": {},
   "outputs": [],
   "source": [
    "def hook_fn(module, input, output, number):\n",
    "    layer_name = f'{module.__class__.__name__}_{number}'\n",
    "    activation_maps[layer_name] = output[0].mean(dim=0)        \n",
    "\n",
    "def register_hooks(model):\n",
    "    model.layers[0].act.register_forward_hook(lambda m, i, o: hook_fn(m, i, o, 1))\n",
    "    model.layers[4].act.register_forward_hook(lambda m, i, o: hook_fn(m, i, o, 5))\n",
    "    model.layers[10].act.register_forward_hook(lambda m, i, o: hook_fn(m, i, o, 11))\n",
    "    model.layers[15].act.register_forward_hook(lambda m, i, o: hook_fn(m, i, o, 16)) \n",
    "\n",
    "def save_activation_maps(epoch):\n",
    "    for layer_name, activation in activation_maps.items():\n",
    "        activation = activation.detach().cpu().numpy() \n",
    "        plt.figure(figsize=(10, 5))\n",
    "        plt.imshow(activation, cmap='viridis')\n",
    "        plt.title(f'Activation Map for {layer_name} at Epoch {epoch}')\n",
    "        plt.colorbar()\n",
    "        plt.savefig(f'{PREFIX}/{layer_name}_activation_map_epoch_{epoch}.png')  \n",
    "        plt.close()"
   ]
  },
  {
   "cell_type": "code",
   "execution_count": 9,
   "metadata": {},
   "outputs": [
    {
     "name": "stdout",
     "output_type": "stream",
     "text": [
      "Files already downloaded and verified\n",
      "Files already downloaded and verified\n"
     ]
    }
   ],
   "source": [
    "batch_size = 64\n",
    "learning_rate = 0.001\n",
    "num_epochs = 800\n",
    "\n",
    "# CIFAR-10 Data Loaders\n",
    "transform = transforms.Compose([\n",
    "    transforms.Resize((224, 224)),  # ResNet18 requires 224x224 input size\n",
    "    transforms.ToTensor(),\n",
    "    transforms.Normalize((0.5, 0.5, 0.5), (0.5, 0.5, 0.5))\n",
    "])\n",
    "\n",
    "trainset = torchvision.datasets.CIFAR10(root='./cifar', train=True, download=True, transform=transform)\n",
    "trainloader = torch.utils.data.DataLoader(trainset, batch_size=batch_size, shuffle=True)\n",
    "\n",
    "testset = torchvision.datasets.CIFAR10(root='./cifar', train=False, download=True, transform=transform)\n",
    "testloader = torch.utils.data.DataLoader(testset, batch_size=batch_size, shuffle=False)"
   ]
  },
  {
   "cell_type": "code",
   "execution_count": 10,
   "metadata": {},
   "outputs": [],
   "source": [
    "def train(model, checkpoint=None):  \n",
    "\n",
    "    model = model.to(device)\n",
    "    N_EPOCHS = 10\n",
    "\n",
    "    optimizer = optim.Adam(model.parameters(), lr=learning_rate)\n",
    "    criterion = nn.CrossEntropyLoss()\n",
    " \n",
    "    training_losses = []\n",
    "\n",
    "    for epoch in trange(N_EPOCHS, desc=\"Training\"):\n",
    "        train_loss = 0.0\n",
    "        for i, batch in tqdm(enumerate(trainloader), desc=f\"Epoch {epoch + 1} in training\", leave=False):\n",
    "\n",
    "            x, y = batch\n",
    "            x, y = x.to(device), y.to(device)\n",
    "            y_hat = model(x)\n",
    "            loss = criterion(y_hat, y)\n",
    "\n",
    "            train_loss += loss.detach().cpu().item() / len(trainloader)\n",
    "\n",
    "            optimizer.zero_grad()\n",
    "            loss.backward()\n",
    "            optimizer.step()\n",
    "\n",
    "        # if epoch % 100 == 0:\n",
    "        if True:\n",
    "\n",
    "            checkpoint = {\n",
    "                'epoch': epoch,\n",
    "                'model_state_dict': model.state_dict(),\n",
    "                'optimizer_state_dict': optimizer.state_dict(),\n",
    "                'loss': train_loss, \n",
    "                'training_losses': training_losses\n",
    "            }\n",
    "\n",
    "            torch.save(checkpoint, 'checkpoint.pt')\n",
    "\n",
    "            save_activation_maps(epoch)\n",
    "\n",
    "\n",
    "        print(f\"Epoch {epoch + 1}/{N_EPOCHS} loss: {train_loss:.2f}\")\n",
    "        print()\n",
    "\n",
    "\n",
    "        training_losses.append(train_loss)\n",
    "\n",
    "    with torch.no_grad():\n",
    "        correct, total = 0, 0\n",
    "        test_loss = 0.0\n",
    "        for batch in tqdm(testloader, desc=\"Testing\"):\n",
    "            x, y = batch\n",
    "            x, y = x.to(device), y.to(device)\n",
    "\n",
    "            y_hat = model(x)\n",
    "            loss = criterion(y_hat, y)\n",
    "            test_loss += loss.detach().cpu().item() / len(testloader)\n",
    "\n",
    "            correct += torch.sum(torch.argmax(y_hat, dim=1) == y).detach().cpu().item()\n",
    "            total += len(x)\n",
    "\n",
    "    return test_loss, correct, total, training_losses"
   ]
  },
  {
   "cell_type": "code",
   "execution_count": 11,
   "metadata": {},
   "outputs": [
    {
     "data": {
      "text/plain": [
       "ImageCustomLSTM(\n",
       "  (layers): ModuleList(\n",
       "    (0): CustomLSTMCell(\n",
       "      (W_i): Linear(in_features=11, out_features=8, bias=True)\n",
       "      (W_f): Linear(in_features=11, out_features=8, bias=True)\n",
       "      (W_c): Linear(in_features=11, out_features=8, bias=True)\n",
       "      (W_o): Linear(in_features=11, out_features=8, bias=True)\n",
       "      (tanh): Tanh()\n",
       "      (act): Sigmoid()\n",
       "    )\n",
       "    (1-15): 15 x CustomLSTMCell(\n",
       "      (W_i): Linear(in_features=16, out_features=8, bias=True)\n",
       "      (W_f): Linear(in_features=16, out_features=8, bias=True)\n",
       "      (W_c): Linear(in_features=16, out_features=8, bias=True)\n",
       "      (W_o): Linear(in_features=16, out_features=8, bias=True)\n",
       "      (tanh): Tanh()\n",
       "      (act): Sigmoid()\n",
       "    )\n",
       "  )\n",
       "  (head): Linear(in_features=8, out_features=10, bias=True)\n",
       ")"
      ]
     },
     "execution_count": 11,
     "metadata": {},
     "output_type": "execute_result"
    }
   ],
   "source": [
    "model = ImageCustomLSTM(input_size, hidden_size, num_layers)\n",
    "model"
   ]
  },
  {
   "cell_type": "code",
   "execution_count": 12,
   "metadata": {},
   "outputs": [
    {
     "name": "stderr",
     "output_type": "stream",
     "text": [
      "Training:   0%|          | 0/10 [00:00<?, ?it/s]"
     ]
    }
   ],
   "source": [
    "PREFIX = 'rnn_base'\n",
    "\n",
    "model = ImageCustomLSTM(input_size, hidden_size, num_layers)\n",
    "register_hooks(model)\n",
    "\n",
    "test_loss, correct, total, training_losses = train(model)"
   ]
  },
  {
   "cell_type": "code",
   "execution_count": null,
   "metadata": {},
   "outputs": [
    {
     "name": "stdout",
     "output_type": "stream",
     "text": [
      "Test loss: 0.28\n",
      "Test accuracy: 92.04%\n"
     ]
    },
    {
     "data": {
      "image/png": "[encoded data removed]",
      "text/plain": [
       "<Figure size 640x480 with 1 Axes>"
      ]
     },
     "metadata": {},
     "output_type": "display_data"
    }
   ],
   "source": [
    "print(f\"Test loss: {test_loss:.2f}\")\n",
    "print(f\"Test accuracy: {correct / total * 100:.2f}%\")\n",
    "\n",
    "plt.title(f\"With_{PREFIX}\")\n",
    "plt.xlabel(\"Epoch\")\n",
    "plt.ylabel(\"Loss\")   \n",
    "\n",
    "plt.plot(training_losses) \n",
    "plt.savefig(f\"training_losses_w_{PREFIX}.png\") \n",
    "plt.show()\n",
    "\n",
    "\n",
    "with open(f\"{PREFIX}.txt\", 'a') as f:\n",
    "    f.write(f\"Test loss: {test_loss:.2f}\\n\")\n",
    "    f.write(f\"Test accuracy: {correct / total * 100:.2f}%\\n\")"
   ]
  }
 ],
 "metadata": {
  "kernelspec": {
   "display_name": "pytorchenv",
   "language": "python",
   "name": "python3"
  },
  "language_info": {
   "codemirror_mode": {
    "name": "ipython",
    "version": 3
   },
   "file_extension": ".py",
   "mimetype": "text/x-python",
   "name": "python",
   "nbconvert_exporter": "python",
   "pygments_lexer": "ipython3",
   "version": "3.12.3 | packaged by Anaconda, Inc. | (main, May  6 2024, 19:42:21) [MSC v.1916 64 bit (AMD64)]"
  },
  "orig_nbformat": 4,
  "vscode": {
   "interpreter": {
    "hash": "13d23e047223dc84a1102dc5c766dcad7992afc98d26331706d77d9a7e59ca18"
   }
  }
 },
 "nbformat": 4,
 "nbformat_minor": 2
}
